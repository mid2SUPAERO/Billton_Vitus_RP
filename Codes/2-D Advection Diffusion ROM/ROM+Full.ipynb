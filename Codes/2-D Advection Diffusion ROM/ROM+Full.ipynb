{
 "cells": [
  {
   "cell_type": "markdown",
   "metadata": {},
   "source": [
    "# 2-D Advection Diffusion Reduced Order Modelling"
   ]
  },
  {
   "cell_type": "markdown",
   "metadata": {},
   "source": [
    "Candidate: Billton Joseph Vitus"
   ]
  },
  {
   "cell_type": "markdown",
   "metadata": {},
   "source": [
    "Tutors: Joseph MORLIER, Oriol CHANDRE-VILA "
   ]
  },
  {
   "cell_type": "markdown",
   "metadata": {},
   "source": [
    "----------------------------------------------------------------------"
   ]
  },
  {
   "cell_type": "markdown",
   "metadata": {},
   "source": [
    "Package imports and initialisations"
   ]
  },
  {
   "cell_type": "code",
   "execution_count": 1,
   "metadata": {},
   "outputs": [],
   "source": [
    "from __future__ import print_function\n",
    "import numpy as np\n",
    "import scipy as sp\n",
    "import math\n",
    "import time\n",
    "import matplotlib.pyplot as plt\n",
    "\n",
    "import matplotlib.tri as mtri\n",
    "import matplotlib.pyplot as plt\n",
    "\n",
    "from ezyrb import POD, RBF, Database\n",
    "from ezyrb import ReducedOrderModel as ROM\n",
    "\n",
    "from ipywidgets import interact, interactive, fixed, interact_manual\n",
    "import ipywidgets as widgets\n",
    "\n",
    "#---------------------------Initialisation-----------------------------\n",
    "Nx = 61 #number of nodes in X axis\n",
    "Ny = 61 #number of nodes in Y axis\n",
    "Lx = 1.  #Length in X \n",
    "Ly = 1.  #Length in Y\n",
    "dx = Lx/(Nx-1); #Step size in X\n",
    "dy = Ly/(Ny-1); #Step size in Y\n",
    "x = np.linspace(0,Lx,Nx)  #Row vector for x\n",
    "y = np.linspace(0,Ly,Ny)  #Row vector for y\n",
    "Ti = 300 \n",
    "Tleft = 950\n",
    "\n",
    "npoints = 10\n",
    "ncomp = npoints**3\n",
    "wcomp = np.zeros(((Nx-2)*(Ny-2), ncomp))"
   ]
  },
  {
   "cell_type": "markdown",
   "metadata": {},
   "source": [
    "Next we have all the functions to solve the PDE for the reference solution."
   ]
  },
  {
   "cell_type": "code",
   "execution_count": 2,
   "metadata": {},
   "outputs": [],
   "source": [
    "#-----------------------Functions------------------------------------\n",
    "# Computing A1\n",
    "def computeA1():\n",
    "    D2x = np.zeros((Nx-2,Nx-2))\n",
    "    for i in range (0,Nx-2):\n",
    "        for j in range (0,Nx-2):\n",
    "            if i == j:\n",
    "                D2x[i,j] = -2\n",
    "            elif j == i+1:\n",
    "                D2x[i,j] = 1\n",
    "            elif j == i-1:\n",
    "                D2x[i,j] = 1\n",
    "    D2x[Nx-3,Nx-3] = -1\n",
    "    D2x = (1/dx**2)*D2x\n",
    "    \n",
    "    D2y = np.zeros((Ny-2,Ny-2))\n",
    "    for i in range (0,Ny-2):\n",
    "        for j in range (0,Ny-2):\n",
    "            if i == j:\n",
    "                D2y[i,j] = -2\n",
    "            elif j == i+1:\n",
    "                D2y[i,j] = 1\n",
    "            elif j == i-1:\n",
    "                D2y[i,j] = 1\n",
    "    D2y[Ny-3,Ny-3] = -1\n",
    "    D2y[0,0] = -1    \n",
    "    #pdb.set_trace()    \n",
    "    D2y = (1/dy**2)*D2y\n",
    "    \n",
    "    A1 = sp.sparse.kron(D2x, np.eye(Ny-2)) + sp.sparse.kron(np.eye(Nx-2), D2y)\n",
    "    \n",
    "    return A1\n",
    "\n",
    "#computing A2\n",
    "def computeA2():    \n",
    "    D1x = np.zeros((Nx-2,Nx-2))\n",
    "    for i in range (0,Nx-2):\n",
    "        for j in range (0,Nx-2):\n",
    "            if i == j:\n",
    "                D1x[i,j] = 1\n",
    "            elif j == i+1:\n",
    "                D1x[i,j] = 0\n",
    "            elif j == i-1:\n",
    "                D1x[i,j] = -1   \n",
    "        \n",
    "    D1x = (1/dx)*D1x\n",
    "    \n",
    "    A2 = np.kron(D1x, np.eye(Ny-2))\n",
    "    \n",
    "    return A2\n",
    "\n",
    "#computing B1\n",
    "def computeB1(u, kappa, ybar):\n",
    "    TleftBC = np.zeros((Ny-2,1))\n",
    "    b1 = np.zeros((Ny-2,1))\n",
    "    for i in range(1,Ny-1):  #adjust range from matlab\n",
    "        if y[i]<Ly/3:\n",
    "            TleftBC[i-1,0] = Ti\n",
    "            b1[i-1,0] = -((u/dx) + kappa/dx**2)*TleftBC[i-1,0]\n",
    "        elif y[i] > 2*Ly/3:\n",
    "            TleftBC[i-1,0] = Ti\n",
    "            b1[i-1,0] = -((u/dx) + kappa/dx**2)*TleftBC[i-1,0]\n",
    "        else:\n",
    "            TleftBC[i-1,0] = 300 + 325*(np.sin(3*math.pi*np.abs(y[i]-ybar))+1)\n",
    "            b1[i-1,0] = -(u/dx + kappa/dx**2)*TleftBC[i-1,0]\n",
    "    return b1, TleftBC\n",
    "\n",
    "\n",
    "#Advection Diffusion Operator\n",
    "def buildadvdefop(u, kappa, ybar):\n",
    "    if u<0:\n",
    "        print('u must be positive')\n",
    "    [b1, TleftBC] = computeB1(u, kappa, ybar)\n",
    "    b = np.vstack((b1, np.zeros(((Nx-3)*(Ny-2),1))))\n",
    "    \n",
    "    A1 = computeA1()\n",
    "    A2 = computeA2()\n",
    "    A = (kappa*A1) - (u*A2)\n",
    "    return A, b, TleftBC"
   ]
  },
  {
   "cell_type": "markdown",
   "metadata": {},
   "source": [
    "In the following line of code, we set the parameters for [ν, κ, y̅], which are the advection speed in the X-direction, diffusion coefficient and the parametrised boundary condition. This will be used to run the reference simulation and the first iteration of the ROM."
   ]
  },
  {
   "cell_type": "code",
   "execution_count": 3,
   "metadata": {},
   "outputs": [],
   "source": [
    "#--------------------PARAM----------------------------------\n",
    "pcomp = [0.136667, 0.0248667, 0.470667]\n",
    "#-----------------------------------------------------------"
   ]
  },
  {
   "cell_type": "markdown",
   "metadata": {},
   "source": [
    "We now calculate the reference solution for a comparison with the ROM output, and for error estimation."
   ]
  },
  {
   "cell_type": "code",
   "execution_count": 4,
   "metadata": {},
   "outputs": [
    {
     "name": "stdout",
     "output_type": "stream",
     "text": [
      "Time for full case is 1.968 sec\n"
     ]
    }
   ],
   "source": [
    "#reference solution\n",
    "tic2 = time.time()\n",
    "[A,b,TleftBC] = buildadvdefop(pcomp[0], pcomp[1], pcomp[2])\n",
    "wcomp = np.linalg.solve(A,b).T.squeeze()\n",
    "tfull = time.time() - tic2\n",
    "print(f'Time for full case is {tfull:.3f} sec')\n",
    "\n",
    "#Left wall BC\n",
    "TleftBC = np.zeros((Ny-2,1))\n",
    "for i in range(1,Ny-1):  #adjust range from matlab\n",
    "        if y[i]<Ly/3:\n",
    "            TleftBC[i-1,0] = Ti\n",
    "        elif y[i] > 2*Ly/3:\n",
    "            TleftBC[i-1,0] = Ti\n",
    "        else:\n",
    "            TleftBC[i-1,0] = 300 + 325*(np.sin(3*math.pi*np.abs(y[i]-pcomp[2]))+1)"
   ]
  },
  {
   "cell_type": "markdown",
   "metadata": {},
   "source": [
    "We use the EZyRB library as the ROM generator module in this study. The only inputs for this library is the snapshot matrix and the parameter matrix. "
   ]
  },
  {
   "cell_type": "markdown",
   "metadata": {},
   "source": [
    "We first train the ROM in the offline phase with the code below. We use pre-generated snapshot matrix and parameter matrix using the snapshotgen.py code."
   ]
  },
  {
   "cell_type": "code",
   "execution_count": 5,
   "metadata": {},
   "outputs": [
    {
     "name": "stdout",
     "output_type": "stream",
     "text": [
      "Total number of columns in snapshot matrix = 75\n",
      "Training time is 0.676 sec\n"
     ]
    }
   ],
   "source": [
    "#POD offline Phase\n",
    "t_pod_offline = time.time()\n",
    "\n",
    "snapshots = np.load('//Snapshots//Snapshot75.npy')\n",
    "print(f'Total number of columns in snapshot matrix = {len(snapshots[0])}')\n",
    "limit = int(0.8*len(snapshots[0]))\n",
    "snapshots = snapshots[:,0:limit]\n",
    "snapshots = np.transpose(snapshots)    \n",
    "\n",
    "param = np.load('//Param//Param75.npy')\n",
    "param = param[:,0:limit]\n",
    "param = np.transpose(param)\n",
    "\n",
    "db = Database(param, snapshots)\n",
    "pod = POD('svd')\n",
    "rbf = RBF()\n",
    "rom = ROM(db, pod, rbf)\n",
    "rom.fit();\n",
    "T_POD_offline = time.time() - t_pod_offline\n",
    "print(f\"Training time is {T_POD_offline:.3f} sec\")"
   ]
  },
  {
   "cell_type": "markdown",
   "metadata": {},
   "source": [
    "We deal with the online phase of the ROM code. This is the predictor module, which uses the Radial Basis Function to predict the solutions for the requested design point."
   ]
  },
  {
   "cell_type": "code",
   "execution_count": 6,
   "metadata": {},
   "outputs": [
    {
     "name": "stdout",
     "output_type": "stream",
     "text": [
      "Online time is 0.010 sec\n"
     ]
    }
   ],
   "source": [
    "#POD Online Phase\n",
    "t_pod_online = time.time()\n",
    "pred_sol = rom.predict(pcomp)\n",
    "T_POD_online = time.time()-t_pod_online\n",
    "print(f\"Online time is {T_POD_online:.3f} sec\")\n"
   ]
  },
  {
   "cell_type": "markdown",
   "metadata": {},
   "source": [
    "We use the root mean squared error (RMSE) method for calculating the error. Since the RMSE has the same units as the quantities being compared, the unit is in Kelvin (K). The Relative Error can also be estimated, relative to the reference solution and is given in percentage."
   ]
  },
  {
   "cell_type": "code",
   "execution_count": 7,
   "metadata": {},
   "outputs": [
    {
     "name": "stdout",
     "output_type": "stream",
     "text": [
      "RMS error is 0.0000\n",
      "Speedup in time is 197.282\n"
     ]
    }
   ],
   "source": [
    "#RMSE\n",
    "MSE = np.square(np.subtract(wcomp,pred_sol)).mean()\n",
    "RMSE = math.sqrt(MSE)\n",
    "print(f\"RMS error is {RMSE:.4f}\")\n",
    "speedup = tfull/T_POD_online\n",
    "print(\"Speedup in time is %.3f\"%speedup)\n",
    "\n",
    "#Relative Error\n",
    "# error = np.array((3481,1))\n",
    "# error = np.divide((pred_sol-wcomp),wcomp)*100\n",
    "# max_error = max(abs(error))\n",
    "# avg_error = np.average(abs(error))\n",
    "# print(f\"Max error is {max_error:.4f} %\")\n",
    "# print(f\"Average error is {avg_error:.4f} %\")"
   ]
  },
  {
   "cell_type": "markdown",
   "metadata": {},
   "source": [
    "The reference solution and the ROM solution is plotted for comparison purposes."
   ]
  },
  {
   "cell_type": "code",
   "execution_count": 8,
   "metadata": {},
   "outputs": [
    {
     "data": {
      "image/png": "[encoded data removed]",
      "text/plain": [
       "<Figure size 432x288 with 2 Axes>"
      ]
     },
     "metadata": {
      "needs_background": "light"
     },
     "output_type": "display_data"
    },
    {
     "data": {
      "image/png": "[encoded data removed]",
      "text/plain": [
       "<Figure size 432x288 with 2 Axes>"
      ]
     },
     "metadata": {
      "needs_background": "light"
     },
     "output_type": "display_data"
    }
   ],
   "source": [
    "x1 = np.linspace(0,1,60)\n",
    "y1 = np.linspace(0,1,59)\n",
    "X,Y = np.meshgrid(x1,y1)\n",
    "\n",
    "#Full Soln\n",
    "wcomp = np.transpose(np.reshape(wcomp,(59,59)))\n",
    "wcomp = np.hstack((TleftBC,wcomp))\n",
    "\n",
    "plt.contourf(X,Y,wcomp, levels = 200)\n",
    "plt.xlabel(\"x\")\n",
    "plt.ylabel(\"y\")\n",
    "plt.title(\"Full Soln at [%.6f,%.6f,%.2f],\"%(pcomp[0], pcomp[1], pcomp[2]))\n",
    "plt.colorbar()\n",
    "plt.show()\n",
    "\n",
    "#POD plot\n",
    "pred_sol = np.transpose(np.reshape(pred_sol,(59,59)))\n",
    "pred_sol = np.hstack((TleftBC,pred_sol))\n",
    "\n",
    "plt.contourf(X,Y,pred_sol, levels = 200)\n",
    "plt.xlabel(\"x\")\n",
    "plt.ylabel(\"y\")\n",
    "plt.title(\"ROM Soln at [%.6f %.6f %.2f],\"%(pcomp[0], pcomp[1], pcomp[2]))\n",
    "plt.colorbar()\n",
    "plt.show()   "
   ]
  },
  {
   "cell_type": "markdown",
   "metadata": {},
   "source": [
    "Next, we create a widget that allows us to play with the parameter values and shows a real time update of the contour plots for the ROM solution. "
   ]
  },
  {
   "cell_type": "code",
   "execution_count": 9,
   "metadata": {},
   "outputs": [
    {
     "data": {
      "application/vnd.jupyter.widget-view+json": {
       "model_id": "3fd6d0e877984d97941ee12ae7ef85f2",
       "version_major": 2,
       "version_minor": 0
      },
      "text/plain": [
       "interactive(children=(FloatSlider(value=0.25, description='v', max=0.5, step=0.01), FloatSlider(value=0.0125, …"
      ]
     },
     "metadata": {},
     "output_type": "display_data"
    }
   ],
   "source": [
    "def f(v,k,ybar):\n",
    "    par = [v,k,ybar]\n",
    "    pred_sol = rom.predict(par)\n",
    "    \n",
    "    TleftBC = np.zeros((Ny-2,1))\n",
    "    for i in range(1,Ny-1): \n",
    "            if y[i]<Ly/3:\n",
    "                TleftBC[i-1,0] = Ti\n",
    "            elif y[i] > 2*Ly/3:\n",
    "                TleftBC[i-1,0] = Ti\n",
    "            else:\n",
    "                TleftBC[i-1,0] = 300 + 325*(np.sin(3*math.pi*np.abs(y[i]-par[2]))+1)\n",
    "    \n",
    "    x1 = np.linspace(0,1,60)\n",
    "    y1 = np.linspace(0,1,59)\n",
    "    X,Y = np.meshgrid(x1,y1)\n",
    "    pred_sol = np.transpose(np.reshape(pred_sol,(59,59)))\n",
    "    pred_sol = np.hstack((TleftBC,pred_sol))\n",
    "\n",
    "    plt.contourf(X,Y,pred_sol, levels = 200)\n",
    "    plt.xlabel(\"x\")\n",
    "    plt.ylabel(\"y\")\n",
    "    plt.title(\"ROM Soln at [%.6f %.6f %.2f],\"%(par[0], par[1], par[2]))\n",
    "    plt.colorbar()\n",
    "    plt.show()\n",
    "    \n",
    "interactive_plot = interactive(f, v=(0, 0.5, 0.01), k=(0.0005, 0.025, 0.001), ybar=(0.4, 0.6, 0.02))\n",
    "output = interactive_plot.children[-1]\n",
    "output.layout.height = '350px'\n",
    "interactive_plot"
   ]
  },
  {
   "cell_type": "code",
   "execution_count": null,
   "metadata": {},
   "outputs": [],
   "source": []
  }
 ],
 "metadata": {
  "kernelspec": {
   "display_name": "Python 3",
   "language": "python",
   "name": "python3"
  },
  "language_info": {
   "codemirror_mode": {
    "name": "ipython",
    "version": 3
   },
   "file_extension": ".py",
   "mimetype": "text/x-python",
   "name": "python",
   "nbconvert_exporter": "python",
   "pygments_lexer": "ipython3",
   "version": "3.7.1"
  }
 },
 "nbformat": 4,
 "nbformat_minor": 4
}
